{
 "cells": [
  {
   "cell_type": "markdown",
   "metadata": {},
   "source": [
    "# Thailand Tourism Data Analysis\n",
    "\n",
    "# Introduction\n",
    "\n",
    "This Jupyter Notebook is part of the project 'Thailand Tourism Dashboard'. \n",
    "It focuses on the exploratory data analysis (EDA) of tourism data in Thailand, \n",
    "covering the period from January 2015 to July 2023.\n",
    "\n",
    "## Data Source\n",
    "The dataset is sourced from the [Thailand Tourism Trend](https://data.go.th/en/dataset/trend_inbound_tourists) dataset, provided by the Ministry of Tourism and Sports, Thailand.\n",
    "\n",
    "- Data Key: 445c66d8-a06a-49d9-adfc-35faca6fc785\n",
    "- Tags: จำนวนนักท่องเที่ยวชาวต่างชาติ, สถิตินักท่องเที่ยวชาวต่างชาติ\n",
    "- Visibility: Public\n",
    "- Dataset Create Date: November 12, 2023\n",
    "- Maintain Date: December 12, 2023\n",
    "- Data Type: Statistical data\n",
    "- Contact Person: กองเศรษฐกิจการท่องเที่ยวและกีฬา\n",
    "- Contact Email: ets.mots@gmail.com\n",
    "- Objective: เพื่อการให้บริการประชาชน, พันธกิจหน่วยงาน, ดัชนี/ตัวชี้วัดระดับนานาชาติ\n",
    "- Update Frequency: Monthly\n",
    "- Geo Coverage: Thailand\n",
    "- Data Source: Office of the Permanent Secretary, Ministry of Tourism and Sports\n",
    "- Data Format: Database, JSON\n",
    "- Data Category: ข้อมูลสาธารณะ\n",
    "- License: Open Data Common\n",
    "\n",
    "## Objective\n",
    "- To understand tourism trends in Thailand.\n",
    "- To analyze spending patterns of tourists.\n",
    "- To prepare data for building an interactive dashboard."
   ]
  },
  {
   "cell_type": "markdown",
   "metadata": {},
   "source": [
    "# Dataset Overview\n",
    "\n",
    "| Column Name      | Description                                                       | Data Type    |\n",
    "|------------------|-------------------------------------------------------------------|--------------|\n",
    "| `YearInfo`       | The year of the record.                                           | `int`        |\n",
    "| `MonthInfo`      | The month of the record.                                          | `int`        |\n",
    "| `DayInfo`        | The day of the record.                                            | `int`        |\n",
    "| `CountryID`      | A unique identifier for the country.                              | `str`        |\n",
    "| `ISO`            | The ISO code for the country.                                     | `str`        |\n",
    "| `CountryName`    | The name of the country.                                          | `str`        |\n",
    "| `Status`         | The status of the data (Provisional or Finalized).                | `str`        |\n",
    "| `TouristNumber`  | The number of tourists from that country on that date.            | `int`        |\n",
    "| `Receipt`        | Total receipts (in Million THB).                                  | `float`      |\n",
    "| `Shopping`       | Spending on shopping (in Million THB).                            | `float`      |\n",
    "| `Entertainment`  | Spending on entertainment (in Million THB).                       | `float`      |\n",
    "| `Sightseeing`    | Spending on sightseeing (in Million THB).                         | `float`      |\n",
    "| `Accommodation`  | Spending on accommodation (in Million THB).                       | `float`      |\n",
    "| `Food`           | Spending on food (in Million THB).                                | `float`      |\n",
    "| `LocalTransport` | Spending on local transport (in Million THB).                     | `float`      |\n",
    "| `Miscellaneous`  | Spending on miscellaneous items (in Million THB).                 | `float`      |\n"
   ]
  }
 ],
 "metadata": {
  "language_info": {
   "name": "python"
  }
 },
 "nbformat": 4,
 "nbformat_minor": 2
}
